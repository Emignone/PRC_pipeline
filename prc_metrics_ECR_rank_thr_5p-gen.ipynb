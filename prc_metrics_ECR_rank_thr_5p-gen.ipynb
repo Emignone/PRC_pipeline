{
 "cells": [
  {
   "cell_type": "code",
   "execution_count": 1,
   "metadata": {},
   "outputs": [],
   "source": [
    "import matplotlib.pyplot as plt\n",
    "import pandas as pd\n",
    "import numpy as np\n",
    "# from openbabel import pybel\n",
    "#from rdkit.Chem import PandasTools\n",
    "#from rdkit.Chem import SDMolSupplier\n",
    "import numpy as np\n",
    "import os\n",
    "import subprocess\n",
    "from subprocess import Popen, PIPE\n",
    "import pandas as pd\n",
    "from time import sleep"
   ]
  },
  {
   "cell_type": "code",
   "execution_count": 125,
   "metadata": {},
   "outputs": [],
   "source": [
    "#prueba:\n",
    "# tar='esr1_ago'"
   ]
  },
  {
   "cell_type": "code",
   "execution_count": 3,
   "metadata": {},
   "outputs": [],
   "source": [
    "# icm_or_filename = tar.split('_')[0]+'_AF_answers1_unique.sdf'\n",
    "# icm_command='/home/ccgroup/icm-browser-pro-3.9-2d/icmbrowserpro64'\n",
    "cwd = \"/media/emilia/HDD\"\n",
    "inputs_dir=cwd+'/Documents/new_excels/'\n",
    "outputs_dir=cwd+'/Documents/new_excels/'\n",
    "outputs_dir=cwd+'/PRC_outputs/'"
   ]
  },
  {
   "cell_type": "code",
   "execution_count": 127,
   "metadata": {},
   "outputs": [],
   "source": [
    "#out_consensus = pd.read_excel(inputs_dir+tar+'_consensus_5p_ICM_conf.xlsx')\n",
    "#out_consensus = pd.read_csv(outputs_dir_tar+tar+'_consensus_added.csv')\n",
    "# out_consensus = pd.read_excel(outputs_dir_tar+tar+'_consensus_5p.xlsx')"
   ]
  },
  {
   "cell_type": "code",
   "execution_count": 131,
   "metadata": {
    "scrolled": true
   },
   "outputs": [
    {
     "data": {
      "text/plain": [
       "21991"
      ]
     },
     "execution_count": 131,
     "metadata": {},
     "output_type": "execute_result"
    }
   ],
   "source": [
    "# TOTAL MOLS:\n",
    "N = len(out_consensus)\n",
    "N"
   ]
  },
  {
   "cell_type": "code",
   "execution_count": 78,
   "metadata": {},
   "outputs": [],
   "source": [
    "#Hacer rename\n",
    "for comb in out_consensus.columns:\n",
    "    if (comb.split('_')[0] == 'ecr'):\n",
    "        out_consensus = out_consensus.rename(columns={comb : '_'.join(['ecr','_'.join(sorted(comb.split('_')[1:]))])})"
   ]
  },
  {
   "cell_type": "code",
   "execution_count": 143,
   "metadata": {},
   "outputs": [],
   "source": [
    "dict_ranks = {'rank_ICM' : 'rank_icm' , 'rank_rDock' : 'rank_rd' , 'rank_dock' : 'rank_dock6' ,'rank_AD' : 'rank_ad' , 'rank_PL' : 'rank_pl'}"
   ]
  },
  {
   "cell_type": "code",
   "execution_count": 144,
   "metadata": {},
   "outputs": [],
   "source": [
    "out_consensus = out_consensus.rename(columns=dict_ranks)"
   ]
  },
  {
   "cell_type": "code",
   "execution_count": 153,
   "metadata": {
    "scrolled": true
   },
   "outputs": [
    {
     "data": {
      "text/plain": [
       "Index(['Unnamed: 0', 'mol', 'Type', 'rank_icm', 'rank_rd', 'rank_ad',\n",
       "       'rank_pl', 'rank_dock6', 'rank_vina', 'exp_icm', 'exp_rd', 'exp_ad',\n",
       "       'exp_pl', 'exp_dock6', 'exp_vina', 'RMSD_AD_ICM', 'RMSD_AD_RDOCK',\n",
       "       'RMSD_PL_AD', 'RMSD_PL_ICM', 'RMSD_PL_RDOCK', 'RMSD_ICM_RDOCK',\n",
       "       'RMSD_ICM_VINA', 'RMSD_AD_VINA', 'RMSD_VINA_RDOCK', 'RMSD_PL_VINA',\n",
       "       'RMSD_DOCK_PL', 'RMSD_DOCK_AD', 'RMSD_DOCK_RDOCK', 'RMSD_DOCK_ICM',\n",
       "       'RMSD_DOCK_VINA', 'Pose Cons Level Max', 'cons progs', 'exp_icm_rd',\n",
       "       'exp_ad_icm', 'exp_dock6_icm', 'exp_icm_pl', 'exp_ad_rd',\n",
       "       'exp_dock6_rd', 'exp_pl_rd', 'exp_ad_dock6', 'exp_ad_pl',\n",
       "       'exp_dock6_pl', 'exp_ad_icm_rd', 'exp_dock6_icm_rd', 'exp_icm_pl_rd',\n",
       "       'exp_ad_dock6_icm', 'exp_ad_icm_pl', 'exp_dock6_icm_pl',\n",
       "       'exp_ad_dock6_rd', 'exp_ad_pl_rd', 'exp_dock6_pl_rd', 'exp_ad_dock6_pl',\n",
       "       'exp_ad_dock6_icm_rd', 'exp_ad_icm_pl_rd', 'exp_dock6_icm_pl_rd',\n",
       "       'exp_ad_dock6_icm_pl', 'exp_ad_dock6_pl_rd', 'exp_ad_dock6_icm_pl_rd',\n",
       "       'ecr_icm_rd', 'ecr_ad_icm', 'ecr_dock6_icm', 'ecr_icm_pl', 'ecr_ad_rd',\n",
       "       'ecr_dock6_rd', 'ecr_pl_rd', 'ecr_ad_dock6', 'ecr_ad_pl',\n",
       "       'ecr_dock6_pl', 'ecr_ad_icm_rd', 'ecr_dock6_icm_rd', 'ecr_icm_pl_rd',\n",
       "       'ecr_ad_dock6_icm', 'ecr_ad_icm_pl', 'ecr_dock6_icm_pl',\n",
       "       'ecr_ad_dock6_rd', 'ecr_ad_pl_rd', 'ecr_dock6_pl_rd', 'ecr_ad_dock6_pl',\n",
       "       'ecr_ad_dock6_icm_rd', 'ecr_ad_icm_pl_rd', 'ecr_dock6_icm_pl_rd',\n",
       "       'ecr_ad_dock6_icm_pl', 'ecr_ad_dock6_pl_rd', 'ecr_ad_dock6_icm_pl_rd'],\n",
       "      dtype='object')"
      ]
     },
     "execution_count": 153,
     "metadata": {},
     "output_type": "execute_result"
    }
   ],
   "source": [
    "# out_consensus.columns"
   ]
  },
  {
   "cell_type": "code",
   "execution_count": 92,
   "metadata": {},
   "outputs": [],
   "source": [
    "thr2=0\n",
    "thr3=0.02\n",
    "thr4=0.05\n",
    "thr5=0.1\n",
    "thr_ecr = 0.05 #Estos hay que comentarlos y definirlos en la notebook anterior. \n",
    "\n",
    "prc_passing_mols = np.zeros(len(out_consensus))\n",
    "\n",
    "for index, row in out_consensus.iterrows():\n",
    "    coincidents = eval(row['Max coincident progs'])\n",
    "    coincidents = [sorted(arr) for arr in coincidents]\n",
    "    for arr in coincidents:\n",
    "        if('DOCK' in arr):\n",
    "            arr[arr.index('DOCK')] = 'DOCK6'\n",
    "        if('RDOCK' in arr):\n",
    "            arr[arr.index('RDOCK')] = 'RD'\n",
    "#     rmsd_values = row[['RMSD_PL_ICM', 'RMSD_PL_RDOCK', 'RMSD_ICM_RDOCK', 'RMSD_AD_ICM', 'RMSD_AD_RDOCK', 'RMSD_PL_AD', 'RMSD_DOCK_PL', 'RMSD_DOCK_AD',\n",
    "#        'RMSD_DOCK_RDOCK', 'RMSD_DOCK_ICM']]\n",
    "# #     cons_level=1\n",
    "#     if( any(rmsd_values < thr)):\n",
    "# #         cons_level += 1\n",
    "#          coincident_poses = [ rmsd_values.index[i] for i in range(len(rmsd_values)) if rmsd_values[i] < thr]\n",
    "#          cons_prog = [rmsd_progs_dict[x] for x in coincident_poses]\n",
    "# #          if( len(coincident_poses) > 2):\n",
    "# #             if( all(rmsd_values < thr) ):\n",
    "# # #                 cons_level += 3\n",
    "# #                 cons_prog = ['ad_rd_icm_pl_dock6']  \n",
    "    \n",
    "    if(row['Max pose cons level'] == 2):\n",
    "        for comb in coincidents:\n",
    "            if('AD' in comb):\n",
    "                ecr_name = 'rank_'+comb[1].lower()\n",
    "            else:\n",
    "                ecr_name = 'ecr_'+comb[0].lower()+'_'+comb[1].lower()\n",
    "                \n",
    "            if( row[ecr_name] < int(thr2*N )):\n",
    "                prc_passing_mols[index] = 1\n",
    "                break\n",
    "        \n",
    "    elif(row['Max pose cons level'] == 3):\n",
    "        for comb in coincidents:\n",
    "            if('AD' in comb):\n",
    "                ecr_name='ecr_'+comb[1].lower()+'_'+comb[2].lower()\n",
    "            else:\n",
    "                ecr_name = 'ecr_'+comb[0].lower()+'_'+comb[1].lower()+'_'+comb[2].lower()\n",
    "            if( row[ecr_name] < int(thr3*N )):\n",
    "                prc_passing_mols[index] = 1\n",
    "                break\n",
    "    \n",
    "    elif(row['Max pose cons level'] == 4):\n",
    "        for comb in coincidents:\n",
    "            if('AD' in comb):\n",
    "                ecr_name='ecr_'+comb[1].lower()+'_'+comb[2].lower()+'_'+comb[3].lower()\n",
    "            else:\n",
    "                ecr_name = 'ecr_'+comb[0].lower()+'_'+comb[1].lower()+'_'+comb[2].lower()+'_'+comb[3].lower()\n",
    "            if( row[ecr_name] < int(thr4*N )):\n",
    "                prc_passing_mols[index] = 1\n",
    "                break\n",
    "                \n",
    "    elif(row['Max pose cons level'] == 5):            \n",
    "        #coincidents=combinations[-1][4:].split('_')\n",
    "        #ecr_name = 'ecr_'+coincidents[0]+'_'+coincidents[1]+'_'+coincidents[2]+'_'+coincidents[3]+'_'+coincidents[4]\n",
    "        ecr_name = 'ecr_dock6_icm_pl_rd'\n",
    "        if( row[ecr_name] < int(thr5*N )):\n",
    "                prc_passing_mols[index] = 1\n",
    "\n",
    "out_consensus['Final selection 5p'] = prc_passing_mols"
   ]
  },
  {
   "cell_type": "code",
   "execution_count": 155,
   "metadata": {
    "scrolled": true
   },
   "outputs": [
    {
     "name": "stdout",
     "output_type": "stream",
     "text": [
      "150 392\n",
      "Hit Rate Option D 0.3826530612244898\n"
     ]
    }
   ],
   "source": [
    "#option D\n",
    "num_ligs_d = len(out_consensus.loc[(out_consensus['Final selection 5p'] == 1 ) & (out_consensus['Type'] == 'L')])\n",
    "num_tot_d = len(out_consensus.loc[(out_consensus['Final selection 5p'] == 1 )])\n",
    "num_tot_ligands = len(out_consensus.loc[(out_consensus['Type'] == 'L')])\n",
    "\n",
    "# print(num_ligs_d, num_tot_d)\n",
    "# print(\"Hit Rate Option D\" , num_ligs_d/num_tot_d)"
   ]
  },
  {
   "cell_type": "code",
   "execution_count": 156,
   "metadata": {
    "scrolled": true
   },
   "outputs": [
    {
     "name": "stdout",
     "output_type": "stream",
     "text": [
      "127 210\n",
      "Hit Rate 0.6047619047619047\n"
     ]
    }
   ],
   "source": [
    "#PRC\n",
    "thr_ecr_local=0.01\n",
    "num_ligs_prc = len(out_consensus.loc[(out_consensus['Final selection 5p'] == 1 ) & (out_consensus['Type'] == 'L') & (out_consensus['ecr_dock6_icm_pl_rd'] < int(thr_ecr*N))])\n",
    "num_tot_prc = len(out_consensus.loc[(out_consensus['Final selection 5p'] == 1 ) & (out_consensus['ecr_dock6_icm_pl_rd'] < int(thr_ecr*N))])\n",
    "# print(num_ligs_prc, num_tot_prc)\n",
    "# print(\"Hit Rate\" , num_ligs_prc/num_tot_prc)"
   ]
  },
  {
   "cell_type": "code",
   "execution_count": null,
   "metadata": {},
   "outputs": [],
   "source": [
    "#ECR 1%\n",
    "#order out_consensus by ecr_ad_dock6_pl_rd_vina ascending\n",
    "\n",
    "out_consensus = out_consensus.sort_values(by=['ecr_ad_dock6_pl_rd_vina'], axis=0)\n",
    "num_ligs_ecr = len(out_consensus.loc[(out_consensus['Type'] == 'L') & (out_consensus['ecr_ad_dock6_icm_pl_rd'] < int(thr_ecr_local*N))])  \n",
    "num_tot_ecr = len(out_consensus.loc[(out_consensus['ecr_ad_dock6_icm_pl_rd'] <= thr_ecr_local*N)])\n",
    "if (num_tot_ecr == 0):\n",
    "    print(\"No ligands with ECR <= 2%\")\n",
    "else:\n",
    "    ecr1 = (num_ligs_ecr/ num_tot_ecr)"
   ]
  }
 ],
 "metadata": {
  "kernelspec": {
   "display_name": "Python 3 (ipykernel)",
   "language": "python",
   "name": "python3"
  },
  "language_info": {
   "codemirror_mode": {
    "name": "ipython",
    "version": 3
   },
   "file_extension": ".py",
   "mimetype": "text/x-python",
   "name": "python",
   "nbconvert_exporter": "python",
   "pygments_lexer": "ipython3",
   "version": "3.10.12"
  }
 },
 "nbformat": 4,
 "nbformat_minor": 2
}
